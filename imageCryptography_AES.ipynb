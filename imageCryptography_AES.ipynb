{
 "cells": [
  {
   "cell_type": "markdown",
   "metadata": {},
   "source": [
    "# [Image Cryptography](https://www.geeksforgeeks.org/visual-cryptography-introduction/)\n",
    "Image encryption and decryption is done using the [**AES** algorithm](https://www.geeksforgeeks.org/advanced-encryption-standard-aes/)."
   ]
  },
  {
   "cell_type": "code",
   "execution_count": 1,
   "metadata": {},
   "outputs": [],
   "source": [
    "# importing libraries\n",
    "\n",
    "# library for AES cryptography\n",
    "from Crypto.Cipher import AES\n",
    "\n",
    "# library for padding into AES block size\n",
    "from Crypto.Util.Padding import pad, unpad\n",
    "\n",
    "from base64 import b64encode\n",
    "from base64 import b64decode\n",
    "import os"
   ]
  },
  {
   "cell_type": "code",
   "execution_count": 2,
   "metadata": {},
   "outputs": [],
   "source": [
    "# the key is used to encrypt and decrypt\n",
    "key=input(\"Enter key : \")\n",
    "key=key.encode('UTF-8')\n",
    "# converting the key to AES block size\n",
    "key=pad(key,AES.block_size)"
   ]
  },
  {
   "cell_type": "code",
   "execution_count": 3,
   "metadata": {},
   "outputs": [],
   "source": [
    "# the encryption function\n",
    "def encrypt(file_path,key):\n",
    "    # works on the file path given by the user\n",
    "    with open(file_path,'rb') as entry:\n",
    "        data=entry.read()\n",
    "        cipher=AES.new(key,AES.MODE_CFB)\n",
    "\n",
    "        # ciphertext is generated using AES encryption\n",
    "        ciphertext=cipher.encrypt(pad(data,AES.block_size))\n",
    "        # initializing vector(nonce) is generated\n",
    "        iv = b64encode(cipher.iv).decode('UTF-8')\n",
    "        ciphertext = b64encode(ciphertext).decode('UTF-8')\n",
    "        to_write = iv + ciphertext\n",
    "    entry.close()\n",
    "\n",
    "    # creates a new encrypted file\n",
    "    with open(file_path+'.enc','w') as data:\n",
    "        data.write(to_write)\n",
    "    data.close()\n",
    "\n",
    "    # removes the original file\n",
    "    if os.path.exists(file_path):\n",
    "        os.remove(file_path)"
   ]
  },
  {
   "cell_type": "code",
   "execution_count": 4,
   "metadata": {},
   "outputs": [],
   "source": [
    "# the decryption function\n",
    "def decrypt(file_path,key):\n",
    "    # works on the file path given by the user\n",
    "    with open(file_path+'.enc','r') as entry:\n",
    "        try:\n",
    "            data=entry.read()\n",
    "\n",
    "            # extracting nonce\n",
    "            iv = data[:24]\n",
    "            iv=b64decode(iv)\n",
    "            ciphertext=data[24:]\n",
    "            ciphertext =b64decode(ciphertext)\n",
    "            cipher=AES.new(key,AES.MODE_CFB,iv)\n",
    "\n",
    "            # plaintext is generated using AES decryption\n",
    "            plaintext=cipher.decrypt(ciphertext)\n",
    "            plaintext=unpad(plaintext,AES.block_size)\n",
    "\n",
    "            # creates a new decrypted file\n",
    "            with open(file_path,'wb') as data:\n",
    "                data.write(plaintext)\n",
    "            data.close()\n",
    "        # if key is wrong then error is generated\n",
    "        except(ValueError,KeyError):\n",
    "            print(\"Wrong Key!\")\n",
    "    entry.close()\n",
    "\n",
    "    # remove the encrypted file\n",
    "    if os.path.exists(file_path+'.enc'):\n",
    "        os.remove(file_path+'.enc')\n",
    "        \n"
   ]
  },
  {
   "cell_type": "code",
   "execution_count": 5,
   "metadata": {},
   "outputs": [],
   "source": [
    "# file path is given by the user\n",
    "file_path = \"image.jpg\""
   ]
  },
  {
   "cell_type": "code",
   "execution_count": 8,
   "metadata": {},
   "outputs": [],
   "source": [
    "# choose for encryption or decryption\n",
    "op = int(input(\"Enter 1 for encryption\\n2 for decryption\"))\n",
    "if op==1:\n",
    "    # encrypt the file using AES encryption\n",
    "    encrypt(file_path,key)\n",
    "elif op==2:\n",
    "    # decrypt the file using AES decryption\n",
    "    decrypt(file_path,key)"
   ]
  },
  {
   "cell_type": "code",
   "execution_count": null,
   "metadata": {},
   "outputs": [],
   "source": []
  }
 ],
 "metadata": {
  "kernelspec": {
   "display_name": "Python 3.11.0 64-bit",
   "language": "python",
   "name": "python3"
  },
  "language_info": {
   "codemirror_mode": {
    "name": "ipython",
    "version": 3
   },
   "file_extension": ".py",
   "mimetype": "text/x-python",
   "name": "python",
   "nbconvert_exporter": "python",
   "pygments_lexer": "ipython3",
   "version": "3.11.0"
  },
  "orig_nbformat": 4,
  "vscode": {
   "interpreter": {
    "hash": "e0de91d8d476ee8cfbbe46e256a368c4b1af0dffb01b7662e27cf477fc06c1dd"
   }
  }
 },
 "nbformat": 4,
 "nbformat_minor": 2
}
