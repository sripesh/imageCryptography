{
 "cells": [
  {
   "cell_type": "markdown",
   "metadata": {},
   "source": [
    "# [Image Cryptography](https://www.geeksforgeeks.org/visual-cryptography-introduction/)\n",
    "Image encrption and decryption is done using the [**X-OR** concept](https://cryptosmith.com/2007/06/09/xor/) with the key provided by the user."
   ]
  },
  {
   "cell_type": "code",
   "execution_count": null,
   "metadata": {},
   "outputs": [],
   "source": [
    "# file path is given by the user\n",
    "file_path = \"image.jpg\""
   ]
  },
  {
   "cell_type": "code",
   "execution_count": 19,
   "metadata": {},
   "outputs": [],
   "source": [
    "# this is used to overwrite the image.jpg file with new .jpg file\n",
    "def write(image):\n",
    "    f1=open(file_path,'wb')\n",
    "    f1.write(image)\n",
    "    f1.close()"
   ]
  },
  {
   "cell_type": "code",
   "execution_count": 3,
   "metadata": {},
   "outputs": [],
   "source": [
    "# this is used to both encrypt and decrypt the image.jpg file using the key\n",
    "def encrypt(key):\n",
    "    # open the file path to read the image file (.jpg file)\n",
    "    f1= open(file_path,'rb')\n",
    "    # store the image file in a variable\n",
    "    image=f1.read()\n",
    "    # close the file path\n",
    "    f1.close()\n",
    "\n",
    "    # convert the image from resultset to byte-like object\n",
    "    image=bytearray(image)\n",
    "\n",
    "    # perform the cryptographic operation\n",
    "    for index,value in enumerate(image):\n",
    "        image[index]=value^int(key)\n",
    "    \n",
    "    # save the change to the file\n",
    "    write(image)"
   ]
  },
  {
   "cell_type": "code",
   "execution_count": 16,
   "metadata": {},
   "outputs": [],
   "source": [
    "# the key is used to encrypt and decrypt\n",
    "key=int(input(\"key between 0 and 255: \"))\n",
    "\n",
    "# image cryptography is performed using this function\n",
    "encrypt(key)"
   ]
  }
 ],
 "metadata": {
  "kernelspec": {
   "display_name": "Python 3.11.0 64-bit",
   "language": "python",
   "name": "python3"
  },
  "language_info": {
   "codemirror_mode": {
    "name": "ipython",
    "version": 3
   },
   "file_extension": ".py",
   "mimetype": "text/x-python",
   "name": "python",
   "nbconvert_exporter": "python",
   "pygments_lexer": "ipython3",
   "version": "3.11.0"
  },
  "orig_nbformat": 4,
  "vscode": {
   "interpreter": {
    "hash": "e0de91d8d476ee8cfbbe46e256a368c4b1af0dffb01b7662e27cf477fc06c1dd"
   }
  }
 },
 "nbformat": 4,
 "nbformat_minor": 2
}
